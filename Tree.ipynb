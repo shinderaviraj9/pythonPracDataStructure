{
  "nbformat": 4,
  "nbformat_minor": 0,
  "metadata": {
    "colab": {
      "name": "Tree.ipynb",
      "provenance": [],
      "collapsed_sections": []
    },
    "kernelspec": {
      "name": "python3",
      "display_name": "Python 3"
    },
    "language_info": {
      "name": "python"
    }
  },
  "cells": [
    {
      "cell_type": "code",
      "execution_count": 37,
      "metadata": {
        "colab": {
          "base_uri": "https://localhost:8080/"
        },
        "id": "sQYRleUaKYf8",
        "outputId": "052600ca-aac3-4368-e7d1-656c4719f627"
      },
      "outputs": [
        {
          "output_type": "stream",
          "name": "stdout",
          "text": [
            "<__main__.Node object at 0x7fd17c6d9950>\n",
            "<__main__.Node object at 0x7fd17c6d90d0>\n",
            "Fount the element 3\n",
            "1 value is the min\n",
            "*********************** Inorder Traversal  is below *****************************\n",
            "1\n",
            "2\n",
            "3\n",
            "4\n",
            "5\n",
            "8\n"
          ]
        }
      ],
      "source": [
        "class Node:\n",
        "  def __init__(self, ele):\n",
        "    self.data=ele\n",
        "    self.right=None\n",
        "    self.left=None\n",
        "\n",
        "class BuildBST:\n",
        "  def create_bst(self,root,ele):\n",
        "    if not root:\n",
        "      return Node(ele)\n",
        "    elif(root.data<ele):\n",
        "      root.right=self.create_bst(root.right,ele)\n",
        "    elif(root.data>ele):\n",
        "      root.left=self.create_bst(root.left,ele)\n",
        "    return root\n",
        "\n",
        "  def search(self,root,ele):\n",
        "      if not root or root.data==ele:\n",
        "       return root\n",
        "      if(root.data<ele):\n",
        "       return self.search(root.right,ele)\n",
        "      return self.search(root.left,ele)\n",
        "    \n",
        "  def minval(self,root):\n",
        "    while root.left:\n",
        "      root=root.left\n",
        "    return root.data\n",
        "  \n",
        "  def inorder(self, root):\n",
        "    if  root==None :\n",
        "      return\n",
        "    self.inorder(root.left)\n",
        "    print(root.data)\n",
        "    self.inorder(root.right)\n",
        "\n",
        "\n",
        "\n",
        "root=None\n",
        "build=BuildBST()\n",
        "l=[4,2,8,5,3,1]\n",
        "for i in l:\n",
        "  root=build.create_bst(root,i)\n",
        "print(root)\n",
        "result=build.search(root,3)\n",
        "print(result)\n",
        "if result:\n",
        "  print(f\"Fount the element {result.data}\")\n",
        "else:\n",
        "  print(\"The element not found \")\n",
        "\n",
        "print(f\"{build.minval(root)} value is the min\")\n",
        "print(\"*********************** Inorder Traversal  is below *****************************\")\n",
        "build.inorder(root)\n",
        "\n",
        "    "
      ]
    }
  ]
}